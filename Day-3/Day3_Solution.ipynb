{
 "cells": [
  {
   "cell_type": "markdown",
   "id": "cb9acddf",
   "metadata": {},
   "source": [
    "### Question 1 : Write a program to subtract two complex numbers in Python."
   ]
  },
  {
   "cell_type": "code",
   "execution_count": 1,
   "id": "6fae14f0",
   "metadata": {},
   "outputs": [
    {
     "name": "stdout",
     "output_type": "stream",
     "text": [
      "Subtraction is :  (1+1j)\n"
     ]
    }
   ],
   "source": [
    "def subComplex(z1, z2):\n",
    "    return z1-z2\n",
    "\n",
    "# driver program\n",
    "z1 = complex(2,3)\n",
    "z2 = complex(1,2)\n",
    "\n",
    "print(\"Subtraction is : \", subComplex(z1,z2))"
   ]
  },
  {
   "cell_type": "markdown",
   "id": "0bf922e5",
   "metadata": {},
   "source": [
    "### Question 2: Write a program to find the fourth root of a number."
   ]
  },
  {
   "cell_type": "code",
   "execution_count": 6,
   "id": "edbf7345",
   "metadata": {},
   "outputs": [
    {
     "name": "stdout",
     "output_type": "stream",
     "text": [
      "Enter a no:81\n",
      "Enter a no of nth root4\n",
      "The 4th root of value = 81 is: 3.0\n"
     ]
    }
   ],
   "source": [
    "x=int(input(\"Enter a no:\"))\n",
    "n=int(input(\"Enter a no of nth root\"))\n",
    "result=x**(1/float(n))\n",
    "print(f'The {n}th root of value = {x} is:',result)"
   ]
  },
  {
   "cell_type": "markdown",
   "id": "ad8f67df",
   "metadata": {},
   "source": [
    "### Question 3: Write a program to swap two numbers in Python with the help of a temporary variable."
   ]
  },
  {
   "cell_type": "code",
   "execution_count": 11,
   "id": "8782ab52",
   "metadata": {},
   "outputs": [
    {
     "name": "stdout",
     "output_type": "stream",
     "text": [
      "Enter a first No:10\n",
      "Enter a second No.20\n",
      "After Swap Value of First No is : 20 And Value of Second No, is : 10\n"
     ]
    }
   ],
   "source": [
    "a=int(input(\"Enter a first No:\"))\n",
    "b=int(input(\"Enter a second No.\"))\n",
    "c = b\n",
    "b = a\n",
    "a = c\n",
    "print(f\"After Swap Value of First No is : {a} And Value of Second No is : {b}\")"
   ]
  },
  {
   "cell_type": "markdown",
   "id": "fa57fbfc",
   "metadata": {},
   "source": [
    "### Question 4: Write a program to swap two numbers in Python without using a temporary variable"
   ]
  },
  {
   "cell_type": "code",
   "execution_count": 13,
   "id": "47f7d5a7",
   "metadata": {},
   "outputs": [
    {
     "name": "stdout",
     "output_type": "stream",
     "text": [
      "Enter value of first variable: 20\n",
      "Enter value of second variable: 10\n",
      "After Swap Value of First No is : 10 And Value of Second No is : 20\n"
     ]
    }
   ],
   "source": [
    "a=int(input(\"Enter value of first variable: \"))\n",
    "b=int(input(\"Enter value of second variable: \"))\n",
    "a=a+b\n",
    "b=a-b\n",
    "a=a-b\n",
    "print(f\"After Swap Value of First No is : {a} And Value of Second No is : {b}\")"
   ]
  },
  {
   "cell_type": "markdown",
   "id": "2aeadd15",
   "metadata": {},
   "source": [
    "### Question 5: Write a program to convert fahrenheit to kelvin and celsius both."
   ]
  },
  {
   "cell_type": "code",
   "execution_count": 15,
   "id": "97c59d1b",
   "metadata": {},
   "outputs": [
    {
     "name": "stdout",
     "output_type": "stream",
     "text": [
      "Temperature in Kelvin ( K ) = 311.278\n",
      "Temperature in Celcius ( K ) = 37.778\n"
     ]
    }
   ],
   "source": [
    "# Function to convert temperature\n",
    "def Fahrenheit_to_Kelvin(F):\n",
    "    return 273.5 + ((F - 32.0) * (5.0/9.0))\n",
    "def Fahrenheit_to_Celcius(F):\n",
    "    return ((F - 32.0) * (5.0/9.0))\n",
    "# Driver function\n",
    "F = 100\n",
    "print(\"Temperature in Kelvin ( K ) = {:.3f}\".format(Fahrenheit_to_Kelvin( F )))\n",
    "print(\"Temperature in Celcius ( K ) = {:.3f}\".format(Fahrenheit_to_Celcius( F )))"
   ]
  },
  {
   "cell_type": "markdown",
   "id": "ee48cf27",
   "metadata": {},
   "source": [
    "### Question 6 : Write a program to demonstrate all the available data types in Python. Hint: Use type() function."
   ]
  },
  {
   "cell_type": "code",
   "execution_count": 24,
   "id": "07538102",
   "metadata": {},
   "outputs": [
    {
     "name": "stdout",
     "output_type": "stream",
     "text": [
      "5 is of type <class 'int'>\n",
      "2.0 is of type <class 'float'>\n",
      "(1+2j) is complex number? True\n",
      "1234567890123456.8 is of type <class 'float'>\n",
      "[1, 2.2, 'python'] is of type <class 'list'>\n",
      "(5, 'program', (1+3j)) is of type <class 'tuple'>\n",
      "This is a string is of type <class 'str'>\n",
      "{1, 2, 3, 4, 5} is of type <class 'set'>\n",
      "{1: 'value', 'key': 2} is of type <class 'dict'>\n"
     ]
    }
   ],
   "source": [
    "#INt\n",
    "a = 5\n",
    "print(a, \"is of type\", type(a))\n",
    "\n",
    "# float\n",
    "a = 2.0\n",
    "print(a, \"is of type\", type(a))\n",
    "\n",
    "#Complex No\n",
    "a = 1+2j\n",
    "print(a, \"is complex number?\", isinstance(1+2j,complex))\n",
    "\n",
    "#List\n",
    "a = [1, 2.2, 'python']\n",
    "print(a, \"is of type\", type(a))\n",
    "\n",
    "#Tuple\n",
    "a = (5,'program', 1+3j)\n",
    "print(a, \"is of type\", type(a))\n",
    "\n",
    "#String\n",
    "a = \"This is a string\"\n",
    "print(a, \"is of type\", type(a))\n",
    "\n",
    "#Set\n",
    "a = {5,2,3,1,4}\n",
    "print(a, \"is of type\", type(a))\n",
    "\n",
    "#Dictionary\n",
    "a = {1:'value','key':2}\n",
    "print(a, \"is of type\", type(a))"
   ]
  },
  {
   "cell_type": "code",
   "execution_count": null,
   "id": "13bdc93e",
   "metadata": {},
   "outputs": [],
   "source": []
  }
 ],
 "metadata": {
  "kernelspec": {
   "display_name": "Python 3 (ipykernel)",
   "language": "python",
   "name": "python3"
  },
  "language_info": {
   "codemirror_mode": {
    "name": "ipython",
    "version": 3
   },
   "file_extension": ".py",
   "mimetype": "text/x-python",
   "name": "python",
   "nbconvert_exporter": "python",
   "pygments_lexer": "ipython3",
   "version": "3.9.12"
  }
 },
 "nbformat": 4,
 "nbformat_minor": 5
}
